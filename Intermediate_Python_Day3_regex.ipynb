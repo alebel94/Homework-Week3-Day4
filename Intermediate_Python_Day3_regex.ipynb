{
 "cells": [
  {
   "cell_type": "markdown",
   "metadata": {},
   "source": [
    "### Regex exercise\n",
    "\n",
    "Use python to read the file regex_test.txt and print the last name on each line using regular expressions and groups (return None for names with no first and last name, or names that aren't properly capitalized)\n",
    "##### Hint: use with open() and readlines()"
   ]
  },
  {
   "cell_type": "code",
   "execution_count": null,
   "metadata": {},
   "outputs": [],
   "source": [
    "\"\"\"\n",
    "Expected Output\n",
    "Abraham Lincoln\n",
    "Andrew P Garfield\n",
    "Connor Milliken\n",
    "Jordan Alexander Williams\n",
    "None\n",
    "None\n",
    "\"\"\""
   ]
  },
  {
   "cell_type": "code",
   "execution_count": 6,
   "metadata": {},
   "outputs": [
    {
     "name": "stdout",
     "output_type": "stream",
     "text": [
      "['Abraham Lincoln\\n', 'Andrew P Garfield\\n', 'Connor Milliken\\n', 'Jordan Alexander Williams\\n', 'Madonna\\n', 'programming is cool\\n']\n",
      "\n",
      "\n",
      "Expected Output:\n",
      "Abraham  Lincoln\n",
      "Andrew P  Garfield\n",
      "Connor  Milliken\n",
      "Jordan Alexander  Williams\n",
      "None\n",
      "None\n"
     ]
    }
   ],
   "source": [
    "import regex as re\n",
    "\n",
    "with open('files/regex_test.txt') as file: \n",
    "    data = file.readlines()\n",
    "print(data)\n",
    "\n",
    "pattern = re.compile('(\\w*)\\s(\\w*\\s)?(\\w{5,10})$')\n",
    "\n",
    "print('\\n\\nExpected Output:')\n",
    "for line in data:\n",
    "    match = pattern.match(line)\n",
    "    if match:\n",
    "        if match.group(2):\n",
    "            print(f'{match.group(1)} {match.group(2)} {match.group(3)}')\n",
    "        else:\n",
    "            print(f'{match.group(1)}  {match.group(3)}')\n",
    "    else:\n",
    "        print(None) \n",
    "        \n",
    "# still have to figure out how to not get \"None\" for missing middle name"
   ]
  },
  {
   "cell_type": "code",
   "execution_count": null,
   "metadata": {},
   "outputs": [],
   "source": []
  }
 ],
 "metadata": {
  "kernelspec": {
   "display_name": "Python 3",
   "language": "python",
   "name": "python3"
  },
  "language_info": {
   "codemirror_mode": {
    "name": "ipython",
    "version": 3
   },
   "file_extension": ".py",
   "mimetype": "text/x-python",
   "name": "python",
   "nbconvert_exporter": "python",
   "pygments_lexer": "ipython3",
   "version": "3.8.5"
  }
 },
 "nbformat": 4,
 "nbformat_minor": 4
}
